{
 "cells": [
  {
   "cell_type": "code",
   "execution_count": 2,
   "id": "6ae15d5a-ef59-4210-96a1-8fca86a83b4f",
   "metadata": {},
   "outputs": [],
   "source": [
    "import pandas as pd\n",
    "import numpy as np\n",
    "import matplotlib.pyplot as plt\n",
    "import seaborn as sns "
   ]
  },
  {
   "cell_type": "code",
   "execution_count": 3,
   "id": "28a9a1b1-0969-43c9-9581-089c301e46da",
   "metadata": {},
   "outputs": [
    {
     "data": {
      "text/html": [
       "<div>\n",
       "<style scoped>\n",
       "    .dataframe tbody tr th:only-of-type {\n",
       "        vertical-align: middle;\n",
       "    }\n",
       "\n",
       "    .dataframe tbody tr th {\n",
       "        vertical-align: top;\n",
       "    }\n",
       "\n",
       "    .dataframe thead th {\n",
       "        text-align: right;\n",
       "    }\n",
       "</style>\n",
       "<table border=\"1\" class=\"dataframe\">\n",
       "  <thead>\n",
       "    <tr style=\"text-align: right;\">\n",
       "      <th></th>\n",
       "      <th>Education</th>\n",
       "      <th>JoiningYear</th>\n",
       "      <th>City</th>\n",
       "      <th>PaymentTier</th>\n",
       "      <th>Age</th>\n",
       "      <th>Gender</th>\n",
       "      <th>EverBenched</th>\n",
       "      <th>ExperienceInCurrentDomain</th>\n",
       "      <th>LeaveOrNot</th>\n",
       "      <th>Salary</th>\n",
       "    </tr>\n",
       "  </thead>\n",
       "  <tbody>\n",
       "    <tr>\n",
       "      <th>0</th>\n",
       "      <td>Bachelors</td>\n",
       "      <td>2017</td>\n",
       "      <td>Bangalore</td>\n",
       "      <td>3</td>\n",
       "      <td>34</td>\n",
       "      <td>Male</td>\n",
       "      <td>No</td>\n",
       "      <td>0</td>\n",
       "      <td>0</td>\n",
       "      <td>171369.0</td>\n",
       "    </tr>\n",
       "    <tr>\n",
       "      <th>1</th>\n",
       "      <td>Bachelors</td>\n",
       "      <td>2013</td>\n",
       "      <td>Pune</td>\n",
       "      <td>1</td>\n",
       "      <td>28</td>\n",
       "      <td>Female</td>\n",
       "      <td>No</td>\n",
       "      <td>3</td>\n",
       "      <td>1</td>\n",
       "      <td>136993.0</td>\n",
       "    </tr>\n",
       "    <tr>\n",
       "      <th>2</th>\n",
       "      <td>Bachelors</td>\n",
       "      <td>2014</td>\n",
       "      <td>New Delhi</td>\n",
       "      <td>3</td>\n",
       "      <td>38</td>\n",
       "      <td>Female</td>\n",
       "      <td>No</td>\n",
       "      <td>2</td>\n",
       "      <td>0</td>\n",
       "      <td>113807.0</td>\n",
       "    </tr>\n",
       "    <tr>\n",
       "      <th>3</th>\n",
       "      <td>Masters</td>\n",
       "      <td>2016</td>\n",
       "      <td>Bangalore</td>\n",
       "      <td>3</td>\n",
       "      <td>27</td>\n",
       "      <td>Male</td>\n",
       "      <td>No</td>\n",
       "      <td>5</td>\n",
       "      <td>1</td>\n",
       "      <td>166478.0</td>\n",
       "    </tr>\n",
       "    <tr>\n",
       "      <th>4</th>\n",
       "      <td>Masters</td>\n",
       "      <td>2017</td>\n",
       "      <td>NaN</td>\n",
       "      <td>3</td>\n",
       "      <td>24</td>\n",
       "      <td>Male</td>\n",
       "      <td>Yes</td>\n",
       "      <td>2</td>\n",
       "      <td>1</td>\n",
       "      <td>393136.0</td>\n",
       "    </tr>\n",
       "  </tbody>\n",
       "</table>\n",
       "</div>"
      ],
      "text/plain": [
       "   Education  JoiningYear       City  PaymentTier  Age  Gender EverBenched  \\\n",
       "0  Bachelors         2017  Bangalore            3   34    Male          No   \n",
       "1  Bachelors         2013       Pune            1   28  Female          No   \n",
       "2  Bachelors         2014  New Delhi            3   38  Female          No   \n",
       "3    Masters         2016  Bangalore            3   27    Male          No   \n",
       "4    Masters         2017        NaN            3   24    Male         Yes   \n",
       "\n",
       "   ExperienceInCurrentDomain  LeaveOrNot    Salary  \n",
       "0                          0           0  171369.0  \n",
       "1                          3           1  136993.0  \n",
       "2                          2           0  113807.0  \n",
       "3                          5           1  166478.0  \n",
       "4                          2           1  393136.0  "
      ]
     },
     "execution_count": 3,
     "metadata": {},
     "output_type": "execute_result"
    }
   ],
   "source": [
    "dataset =pd.read_csv(\"employee_2.csv\")\n",
    "dataset.head(5)"
   ]
  },
  {
   "cell_type": "code",
   "execution_count": 4,
   "id": "73444875-28ef-43fd-be60-8fd2aef6d242",
   "metadata": {},
   "outputs": [
    {
     "data": {
      "text/html": [
       "<div>\n",
       "<style scoped>\n",
       "    .dataframe tbody tr th:only-of-type {\n",
       "        vertical-align: middle;\n",
       "    }\n",
       "\n",
       "    .dataframe tbody tr th {\n",
       "        vertical-align: top;\n",
       "    }\n",
       "\n",
       "    .dataframe thead th {\n",
       "        text-align: right;\n",
       "    }\n",
       "</style>\n",
       "<table border=\"1\" class=\"dataframe\">\n",
       "  <thead>\n",
       "    <tr style=\"text-align: right;\">\n",
       "      <th></th>\n",
       "      <th>JoiningYear</th>\n",
       "      <th>PaymentTier</th>\n",
       "      <th>Age</th>\n",
       "      <th>ExperienceInCurrentDomain</th>\n",
       "      <th>LeaveOrNot</th>\n",
       "      <th>Salary</th>\n",
       "    </tr>\n",
       "  </thead>\n",
       "  <tbody>\n",
       "    <tr>\n",
       "      <th>count</th>\n",
       "      <td>1807.000000</td>\n",
       "      <td>1807.000000</td>\n",
       "      <td>1807.000000</td>\n",
       "      <td>1807.000000</td>\n",
       "      <td>1807.000000</td>\n",
       "      <td>1798.000000</td>\n",
       "    </tr>\n",
       "    <tr>\n",
       "      <th>mean</th>\n",
       "      <td>2015.076923</td>\n",
       "      <td>2.695075</td>\n",
       "      <td>26.310459</td>\n",
       "      <td>3.228002</td>\n",
       "      <td>0.362479</td>\n",
       "      <td>224240.323693</td>\n",
       "    </tr>\n",
       "    <tr>\n",
       "      <th>std</th>\n",
       "      <td>1.854077</td>\n",
       "      <td>0.564248</td>\n",
       "      <td>2.142854</td>\n",
       "      <td>1.302112</td>\n",
       "      <td>0.480849</td>\n",
       "      <td>100823.365853</td>\n",
       "    </tr>\n",
       "    <tr>\n",
       "      <th>min</th>\n",
       "      <td>2012.000000</td>\n",
       "      <td>1.000000</td>\n",
       "      <td>22.000000</td>\n",
       "      <td>0.000000</td>\n",
       "      <td>0.000000</td>\n",
       "      <td>50135.000000</td>\n",
       "    </tr>\n",
       "    <tr>\n",
       "      <th>25%</th>\n",
       "      <td>2013.000000</td>\n",
       "      <td>2.000000</td>\n",
       "      <td>25.000000</td>\n",
       "      <td>2.000000</td>\n",
       "      <td>0.000000</td>\n",
       "      <td>137712.250000</td>\n",
       "    </tr>\n",
       "    <tr>\n",
       "      <th>50%</th>\n",
       "      <td>2015.000000</td>\n",
       "      <td>3.000000</td>\n",
       "      <td>26.000000</td>\n",
       "      <td>3.000000</td>\n",
       "      <td>0.000000</td>\n",
       "      <td>226605.500000</td>\n",
       "    </tr>\n",
       "    <tr>\n",
       "      <th>75%</th>\n",
       "      <td>2017.000000</td>\n",
       "      <td>3.000000</td>\n",
       "      <td>27.000000</td>\n",
       "      <td>4.000000</td>\n",
       "      <td>1.000000</td>\n",
       "      <td>309474.000000</td>\n",
       "    </tr>\n",
       "    <tr>\n",
       "      <th>max</th>\n",
       "      <td>2018.000000</td>\n",
       "      <td>3.000000</td>\n",
       "      <td>40.000000</td>\n",
       "      <td>5.000000</td>\n",
       "      <td>1.000000</td>\n",
       "      <td>399785.000000</td>\n",
       "    </tr>\n",
       "  </tbody>\n",
       "</table>\n",
       "</div>"
      ],
      "text/plain": [
       "       JoiningYear  PaymentTier          Age  ExperienceInCurrentDomain  \\\n",
       "count  1807.000000  1807.000000  1807.000000                1807.000000   \n",
       "mean   2015.076923     2.695075    26.310459                   3.228002   \n",
       "std       1.854077     0.564248     2.142854                   1.302112   \n",
       "min    2012.000000     1.000000    22.000000                   0.000000   \n",
       "25%    2013.000000     2.000000    25.000000                   2.000000   \n",
       "50%    2015.000000     3.000000    26.000000                   3.000000   \n",
       "75%    2017.000000     3.000000    27.000000                   4.000000   \n",
       "max    2018.000000     3.000000    40.000000                   5.000000   \n",
       "\n",
       "        LeaveOrNot         Salary  \n",
       "count  1807.000000    1798.000000  \n",
       "mean      0.362479  224240.323693  \n",
       "std       0.480849  100823.365853  \n",
       "min       0.000000   50135.000000  \n",
       "25%       0.000000  137712.250000  \n",
       "50%       0.000000  226605.500000  \n",
       "75%       1.000000  309474.000000  \n",
       "max       1.000000  399785.000000  "
      ]
     },
     "execution_count": 4,
     "metadata": {},
     "output_type": "execute_result"
    }
   ],
   "source": [
    "# statistics meansures\n",
    "dataset.describe()"
   ]
  },
  {
   "cell_type": "code",
   "execution_count": 5,
   "id": "1f8e18d7-e0d5-4e2a-877d-57b66f533261",
   "metadata": {},
   "outputs": [
    {
     "name": "stdout",
     "output_type": "stream",
     "text": [
      "\n",
      "Max values:\n",
      "Age           40.0\n",
      "Salary    399785.0\n",
      "dtype: float64\n",
      "\n",
      "standard D :\n",
      "Age            2.142854\n",
      "Salary    100823.365853\n",
      "dtype: float64\n",
      "covaiance :\n",
      "                Age        Salary\n",
      "Age        4.591823 -4.897130e+03\n",
      "Salary -4897.130103  1.016535e+10\n"
     ]
    }
   ],
   "source": [
    "print(\"\\nMax values:\")\n",
    "print(dataset[['Age', 'Salary']].max())\n",
    "\n",
    "print(\"\\nstandard D :\")\n",
    "print(dataset[['Age','Salary']].std())\n",
    "\n",
    "print(\"covaiance :\")\n",
    "print(dataset[['Age','Salary']].cov())\n"
   ]
  },
  {
   "cell_type": "code",
   "execution_count": 6,
   "id": "678729ad-523a-465a-867b-ce685c739d36",
   "metadata": {},
   "outputs": [
    {
     "data": {
      "text/plain": [
       "Age_Group\n",
       "25-35    1109\n",
       "18-25     672\n",
       "35-45      26\n",
       "45-60       0\n",
       "Name: count, dtype: int64"
      ]
     },
     "execution_count": 6,
     "metadata": {},
     "output_type": "execute_result"
    }
   ],
   "source": [
    "# grouping and binning\n",
    "bins = [18, 25, 35, 45, 60]\n",
    "\n",
    "labels = ['18-25', '25-35', '35-45', '45-60']\n",
    "\n",
    "dataset['Age_Group'] = pd.cut(dataset['Age'], bins=bins, labels=labels)\n",
    "\n",
    "dataset['Age_Group'].value_counts()"
   ]
  },
  {
   "cell_type": "code",
   "execution_count": 7,
   "id": "e36263b3-91b2-45d6-826a-d31c41f0cdba",
   "metadata": {},
   "outputs": [
    {
     "name": "stdout",
     "output_type": "stream",
     "text": [
      "\n",
      "Grouped Salary Statistics by Age Group:\n",
      "                     mean    median       max      min            std\n",
      "Age_Group                                                           \n",
      "18-25      225847.299107  232190.0  399598.0  50135.0   98486.549117\n",
      "25-35      223991.190000  226226.0  399785.0  50214.0  102130.165925\n",
      "35-45      193246.461538  162553.5  397693.0  67213.0  103677.780964\n",
      "45-60                NaN       NaN       NaN      NaN            NaN\n"
     ]
    },
    {
     "name": "stderr",
     "output_type": "stream",
     "text": [
      "C:\\Users\\harsh\\AppData\\Local\\Temp\\ipykernel_2752\\1945991204.py:2: FutureWarning: The default of observed=False is deprecated and will be changed to True in a future version of pandas. Pass observed=False to retain current behavior or observed=True to adopt the future default and silence this warning.\n",
      "  grouped_stats = dataset.groupby('Age_Group')['Salary'].agg(['mean', 'median', 'max', 'min', 'std'])\n"
     ]
    }
   ],
   "source": [
    "# aggregations\n",
    "grouped_stats = dataset.groupby('Age_Group')['Salary'].agg(['mean', 'median', 'max', 'min', 'std'])\n",
    "\n",
    "# grouped_stats = dataset.groupby('Age_Group')['Salary'].mean()\n",
    "\n",
    "print(\"\\nGrouped Salary Statistics by Age Group:\\n\", grouped_stats)"
   ]
  },
  {
   "cell_type": "code",
   "execution_count": 8,
   "id": "5d540cfb-8545-46d0-a081-b746b0f23c38",
   "metadata": {},
   "outputs": [
    {
     "name": "stdout",
     "output_type": "stream",
     "text": [
      "\n",
      "Salary list by age group (mean): [225847.29910714287, 223991.19, 193246.46153846153, nan]\n"
     ]
    }
   ],
   "source": [
    "# Create a list of mean salary per age group\n",
    "salary_list_by_group = grouped_stats['mean'].tolist()\n",
    "print(\"\\nSalary list by age group (mean):\", salary_list_by_group)"
   ]
  },
  {
   "cell_type": "code",
   "execution_count": 9,
   "id": "6aee5130-21f2-4e7e-8ae0-1891dd3f2df2",
   "metadata": {},
   "outputs": [
    {
     "data": {
      "text/plain": [
       "Gender\n",
       "Male      1071\n",
       "Female     728\n",
       "Name: count, dtype: int64"
      ]
     },
     "execution_count": 9,
     "metadata": {},
     "output_type": "execute_result"
    }
   ],
   "source": [
    "#counts \n",
    "dataset.head(5)\n",
    "education = dataset['Education'].value_counts()\n",
    "dataset['JoiningYear'].value_counts()\n",
    "dataset['Gender'].value_counts()"
   ]
  },
  {
   "cell_type": "code",
   "execution_count": 11,
   "id": "92ec757b-33e4-44e8-9fe8-c8f2f6fef181",
   "metadata": {},
   "outputs": [
    {
     "data": {
      "image/png": "[encoded data removed]",
      "text/plain": [
       "<Figure size 640x480 with 1 Axes>"
      ]
     },
     "metadata": {},
     "output_type": "display_data"
    }
   ],
   "source": [
    "sns.histplot(dataset['Education'])\n",
    "\n",
    "# Add title and labels\n",
    "plt.title('education Distribution')\n",
    "plt.xlabel('Education')\n",
    "plt.ylabel('Frequency')\n",
    "plt.show()\n"
   ]
  },
  {
   "cell_type": "code",
   "execution_count": 11,
   "id": "bab4ef20-d97a-42f5-bbc2-d5cd4b45dcc8",
   "metadata": {},
   "outputs": [
    {
     "data": {
      "image/png": "[encoded data removed]",
      "text/plain": [
       "<Figure size 600x600 with 1 Axes>"
      ]
     },
     "metadata": {},
     "output_type": "display_data"
    }
   ],
   "source": [
    "#Visualization \n",
    "plt.figure(figsize=(6,6))\n",
    "\n",
    "plt.pie(education,autopct=\"%1.2f%%\",labels=education.index)\n",
    "\n",
    "plt.title(\"Education  distribution\")\n",
    "\n",
    "plt.show()"
   ]
  },
  {
   "cell_type": "code",
   "execution_count": null,
   "id": "837c05f0-969b-4017-8b9f-8b24c96e7c4f",
   "metadata": {},
   "outputs": [],
   "source": []
  }
 ],
 "metadata": {
  "kernelspec": {
   "display_name": "Python 3 (ipykernel)",
   "language": "python",
   "name": "python3"
  },
  "language_info": {
   "codemirror_mode": {
    "name": "ipython",
    "version": 3
   },
   "file_extension": ".py",
   "mimetype": "text/x-python",
   "name": "python",
   "nbconvert_exporter": "python",
   "pygments_lexer": "ipython3",
   "version": "3.12.7"
  }
 },
 "nbformat": 4,
 "nbformat_minor": 5
}
