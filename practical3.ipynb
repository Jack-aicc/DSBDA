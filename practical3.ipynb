{
 "cells": [
  {
   "cell_type": "code",
   "execution_count": 1,
   "id": "c50e2dea-38aa-4a4d-80a0-2cecf3975dbd",
   "metadata": {},
   "outputs": [],
   "source": [
    "import pandas as pd\n",
    "import numpy as np\n",
    "import matplotlib.pyplot as plt\n",
    "import seaborn as sns\n",
    "\n",
    "# Step 1: Load the dataset\n",
    "df = pd.read_csv(\"AcademicPerformance_New.csv\")\n"
   ]
  },
  {
   "cell_type": "code",
   "execution_count": 5,
   "id": "831e309d-9d18-4f17-819d-0c6e7aa720f6",
   "metadata": {},
   "outputs": [
    {
     "name": "stdout",
     "output_type": "stream",
     "text": [
      "Initial Dataset:\n",
      "     Roll No NationalITy         WT      DSBDA         AI    Average Grade  \\\n",
      "0   1.000000       India  72.000000  72.000000  74.000000  72.666667     C   \n",
      "1   2.000000       Japan  69.000000  90.000000  62.235955  53.000000     B   \n",
      "2  50.479592         USA  61.164835  64.652632  62.235955  58.663265     D   \n",
      "3   4.000000       China  47.000000  64.652632  44.000000  30.333333     D   \n",
      "4   5.000000       India  76.000000  78.000000  62.235955  51.333333     C   \n",
      "\n",
      "    PG  \n",
      "0  Yes  \n",
      "1   No  \n",
      "2   No  \n",
      "3  Yes  \n",
      "4   No  \n"
     ]
    }
   ],
   "source": [
    "print(\"Initial Dataset:\")\n",
    "print(df.head())"
   ]
  },
  {
   "cell_type": "code",
   "execution_count": 3,
   "id": "12e575f6-58f9-4ace-af7c-d77036289c05",
   "metadata": {},
   "outputs": [
    {
     "name": "stdout",
     "output_type": "stream",
     "text": [
      "\n",
      "Missing values before cleaning:\n",
      "Roll No         1\n",
      "NationalITy     1\n",
      "WT              8\n",
      "DSBDA           4\n",
      "AI             10\n",
      "Average         1\n",
      "Grade           1\n",
      "PG              1\n",
      "dtype: int64\n"
     ]
    }
   ],
   "source": [
    "# Print missing values before cleaning\n",
    "print(\"\\nMissing values before cleaning:\")\n",
    "print(df.isnull().sum())\n"
   ]
  },
  {
   "cell_type": "code",
   "execution_count": 4,
   "id": "7df0abe2-5bce-4f26-b3a2-601fe0bac41c",
   "metadata": {},
   "outputs": [],
   "source": [
    "for i in df.columns:\n",
    "    if df[i].dtype == 'object':\n",
    "        df[i] = df[i].fillna(df[i].mode()[0])\n",
    "    else:\n",
    "        df[i] = df[i].fillna(df[i].mean())"
   ]
  },
  {
   "cell_type": "code",
   "execution_count": 6,
   "id": "ce25a61c-14dc-4014-ae51-62f2e31b09df",
   "metadata": {},
   "outputs": [
    {
     "name": "stdout",
     "output_type": "stream",
     "text": [
      "The count of outliers in the DSBDA Column 0\n",
      "the outlier is :/n Empty DataFrame\n",
      "Columns: [Roll No, NationalITy, WT, DSBDA, AI, Average, Grade, PG, DSBDA z score]\n",
      "Index: []\n"
     ]
    }
   ],
   "source": [
    "df['DSBDA z score']=(df.DSBDA-df.DSBDA.mean())/df.DSBDA.std()\n",
    "print(\"The count of outliers in the DSBDA Column\",(df['DSBDA z score']>3).sum())\n",
    "\n",
    "outlier=df[(df['DSBDA z score']>3) | (df['DSBDA z score']<-3)]\n",
    "print(\"the outlier is :/n\",outlier)"
   ]
  },
  {
   "cell_type": "code",
   "execution_count": 45,
   "id": "f337da27-fcbc-4833-9784-7ae15e6f47d4",
   "metadata": {},
   "outputs": [
    {
     "name": "stdout",
     "output_type": "stream",
     "text": [
      "The count of outliers in the WT Column is:\n",
      "1\n",
      "\n",
      "Outlier rows in WT column:\n",
      "     Roll No NationalITy    WT  DSBDA    AI  Average Grade   PG  dsbda z score  \\\n",
      "17     18.0      Rassia  18.0   32.0  28.0     26.0     D  Yes      -2.238634   \n",
      "\n",
      "    WT z score  \n",
      "17   -3.003828  \n",
      "\n",
      "First 5 rows without WT outliers:\n",
      "      Roll No NationalITy         WT      DSBDA         AI    Average Grade  \\\n",
      "0   1.000000       India  72.000000  72.000000  74.000000  72.666667     C   \n",
      "1   2.000000       Japan  69.000000  90.000000  62.235955  53.000000     B   \n",
      "2  50.479592         USA  61.164835  64.652632  62.235955  58.663265     D   \n",
      "3   4.000000       China  47.000000  64.652632  44.000000  30.333333     D   \n",
      "4   5.000000       India  76.000000  78.000000  62.235955  51.333333     C   \n",
      "\n",
      "    PG  dsbda z score    WT z score  \n",
      "0  Yes       0.503729  7.540160e-01  \n",
      "1   No       1.737792  5.452469e-01  \n",
      "2   No       0.000000  4.944646e-16  \n",
      "3  Yes       0.000000 -9.857268e-01  \n",
      "4   No       0.915083  1.032375e+00  \n",
      "\n",
      "Number of removed rows: 1\n"
     ]
    }
   ],
   "source": [
    "# Calculate Z-score for WT column\n",
    "df['WT z score'] = (df['WT'] - df['WT'].mean()) / df['WT'].std()\n",
    "\n",
    "# Count the outliers in the WT column\n",
    "print(\"The count of outliers in the WT Column is:\")\n",
    "print(((df['WT z score'] < -3) | (df['WT z score'] > 3)).sum())\n",
    "\n",
    "# Display outlier rows\n",
    "outliers = df[(df['WT z score'] > 3) | (df['WT z score'] < -3)]\n",
    "print(\"\\nOutlier rows in WT column:\\n\", outliers)\n",
    "\n",
    "# DataFrame without WT outliers\n",
    "no_WT_outliers = df[(df['WT z score'] <= 3) & (df['WT z score'] >= -3)]\n",
    "print(\"\\nFirst 5 rows without WT outliers:\\n\", no_WT_outliers.head())\n",
    "\n",
    "# Number of removed rows\n",
    "print(\"\\nNumber of removed rows:\", df.shape[0] - no_WT_outliers.shape[0])\n"
   ]
  },
  {
   "cell_type": "code",
   "execution_count": 46,
   "id": "5b8e3cc2-299c-44f3-aa97-14a3f6bf5182",
   "metadata": {},
   "outputs": [
    {
     "data": {
      "text/html": [
       "<div>\n",
       "<style scoped>\n",
       "    .dataframe tbody tr th:only-of-type {\n",
       "        vertical-align: middle;\n",
       "    }\n",
       "\n",
       "    .dataframe tbody tr th {\n",
       "        vertical-align: top;\n",
       "    }\n",
       "\n",
       "    .dataframe thead th {\n",
       "        text-align: right;\n",
       "    }\n",
       "</style>\n",
       "<table border=\"1\" class=\"dataframe\">\n",
       "  <thead>\n",
       "    <tr style=\"text-align: right;\">\n",
       "      <th></th>\n",
       "      <th>Average</th>\n",
       "      <th>Average labels</th>\n",
       "    </tr>\n",
       "  </thead>\n",
       "  <tbody>\n",
       "    <tr>\n",
       "      <th>0</th>\n",
       "      <td>72.666667</td>\n",
       "      <td>high</td>\n",
       "    </tr>\n",
       "    <tr>\n",
       "      <th>1</th>\n",
       "      <td>53.000000</td>\n",
       "      <td>medium</td>\n",
       "    </tr>\n",
       "    <tr>\n",
       "      <th>2</th>\n",
       "      <td>58.663265</td>\n",
       "      <td>medium</td>\n",
       "    </tr>\n",
       "    <tr>\n",
       "      <th>3</th>\n",
       "      <td>30.333333</td>\n",
       "      <td>low</td>\n",
       "    </tr>\n",
       "    <tr>\n",
       "      <th>4</th>\n",
       "      <td>51.333333</td>\n",
       "      <td>medium</td>\n",
       "    </tr>\n",
       "    <tr>\n",
       "      <th>...</th>\n",
       "      <td>...</td>\n",
       "      <td>...</td>\n",
       "    </tr>\n",
       "    <tr>\n",
       "      <th>94</th>\n",
       "      <td>26.333333</td>\n",
       "      <td>low</td>\n",
       "    </tr>\n",
       "    <tr>\n",
       "      <th>95</th>\n",
       "      <td>80.333333</td>\n",
       "      <td>high</td>\n",
       "    </tr>\n",
       "    <tr>\n",
       "      <th>96</th>\n",
       "      <td>64.333333</td>\n",
       "      <td>medium</td>\n",
       "    </tr>\n",
       "    <tr>\n",
       "      <th>97</th>\n",
       "      <td>68.333333</td>\n",
       "      <td>medium</td>\n",
       "    </tr>\n",
       "    <tr>\n",
       "      <th>98</th>\n",
       "      <td>41.666667</td>\n",
       "      <td>low</td>\n",
       "    </tr>\n",
       "  </tbody>\n",
       "</table>\n",
       "<p>99 rows × 2 columns</p>\n",
       "</div>"
      ],
      "text/plain": [
       "      Average Average labels\n",
       "0   72.666667           high\n",
       "1   53.000000         medium\n",
       "2   58.663265         medium\n",
       "3   30.333333            low\n",
       "4   51.333333         medium\n",
       "..        ...            ...\n",
       "94  26.333333            low\n",
       "95  80.333333           high\n",
       "96  64.333333         medium\n",
       "97  68.333333         medium\n",
       "98  41.666667            low\n",
       "\n",
       "[99 rows x 2 columns]"
      ]
     },
     "execution_count": 46,
     "metadata": {},
     "output_type": "execute_result"
    }
   ],
   "source": [
    "mybins = [0,50,70,100]\n",
    "mylabels = ['low','medium','high']\n",
    "\n",
    "df[\"Average labels\"] = pd.cut(df['Average'],bins=mybins,labels=mylabels)\n",
    "\n",
    "df[[\"Average\",\"Average labels\"]]"
   ]
  },
  {
   "cell_type": "code",
   "execution_count": 7,
   "id": "33ecd6ea-7a7b-41d5-be94-f9243be7058d",
   "metadata": {},
   "outputs": [
    {
     "data": {
      "image/png": "[encoded data removed]",
      "text/plain": [
       "<Figure size 500x500 with 1 Axes>"
      ]
     },
     "metadata": {},
     "output_type": "display_data"
    }
   ],
   "source": [
    "plt.figure(figsize=(5,5))\n",
    "plt.boxplot(df['Average'])\n",
    "plt.title('Box Plot of Average')\n",
    "plt.xlabel('Average')\n",
    "plt.show()\n"
   ]
  },
  {
   "cell_type": "code",
   "execution_count": null,
   "id": "9f8addd0-cfc6-40b6-ba95-386dea0f11bb",
   "metadata": {},
   "outputs": [],
   "source": []
  }
 ],
 "metadata": {
  "kernelspec": {
   "display_name": "Python 3 (ipykernel)",
   "language": "python",
   "name": "python3"
  },
  "language_info": {
   "codemirror_mode": {
    "name": "ipython",
    "version": 3
   },
   "file_extension": ".py",
   "mimetype": "text/x-python",
   "name": "python",
   "nbconvert_exporter": "python",
   "pygments_lexer": "ipython3",
   "version": "3.12.7"
  }
 },
 "nbformat": 4,
 "nbformat_minor": 5
}
