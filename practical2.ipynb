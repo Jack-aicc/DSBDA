{
 "cells": [
  {
   "cell_type": "code",
   "execution_count": 1,
   "id": "dbf1703f-52fb-4d48-aebe-53d077e5f17b",
   "metadata": {},
   "outputs": [],
   "source": [
    "# 1. Import required libraries and load dataset\n",
    "import pandas as pd\n",
    "import numpy as np\n",
    "import matplotlib.pyplot as plt\n",
    "import seaborn as sns\n",
    "from sklearn.preprocessing import LabelEncoder,MinMaxScaler\n",
    "\n",
    "# Load the dataset\n",
    "df = pd.read_csv(\"AcademicPerformance_New.csv\")"
   ]
  },
  {
   "cell_type": "code",
   "execution_count": 2,
   "id": "36d437dc-352e-4672-99fc-bca83fba32e6",
   "metadata": {},
   "outputs": [
    {
     "name": "stdout",
     "output_type": "stream",
     "text": [
      "Dataset Preview:\n",
      "    Roll No NationalITy    WT  DSBDA    AI    Average Grade   PG\n",
      "0      1.0       India  72.0   72.0  74.0  72.666667     C  Yes\n",
      "1      2.0       Japan  69.0   90.0   NaN  53.000000     B   No\n",
      "2      NaN         NaN   NaN    NaN   NaN        NaN   NaN  NaN\n",
      "3      4.0       China  47.0    NaN  44.0  30.333333     D  Yes\n",
      "4      5.0       India  76.0   78.0   NaN  51.333333     C   No\n"
     ]
    }
   ],
   "source": [
    "# Display first few rows\n",
    "print(\"Dataset Preview:\\n\", df.head())"
   ]
  },
  {
   "cell_type": "code",
   "execution_count": 4,
   "id": "3fb06604-94cf-4dc9-9b93-097e153f0cb4",
   "metadata": {},
   "outputs": [
    {
     "name": "stdout",
     "output_type": "stream",
     "text": [
      "\n",
      "Missing Values:\n",
      " Roll No         1\n",
      "NationalITy     1\n",
      "WT              0\n",
      "DSBDA           4\n",
      "AI             10\n",
      "Average         1\n",
      "Grade           1\n",
      "PG              1\n",
      "dtype: int64\n",
      "\n",
      "Statistical Summary:\n",
      "           Roll No NationalITy         WT      DSBDA         AI    Average  \\\n",
      "count   98.000000          98  99.000000  95.000000  89.000000  98.000000   \n",
      "unique        NaN           5        NaN        NaN        NaN        NaN   \n",
      "top           NaN         USA        NaN        NaN        NaN        NaN   \n",
      "freq          NaN          30        NaN        NaN        NaN        NaN   \n",
      "mean    50.479592         NaN  56.222222  64.652632  62.235955  58.663265   \n",
      "std     28.469274         NaN  22.072957  14.893072  16.216590  16.518482   \n",
      "min      1.000000         NaN   0.000000  26.000000  20.000000  26.000000   \n",
      "25%     26.250000         NaN  46.500000  54.500000  52.000000  45.250000   \n",
      "50%     50.500000         NaN  61.000000  66.000000  63.000000  59.333333   \n",
      "75%     74.750000         NaN  71.000000  74.000000  74.000000  71.916667   \n",
      "max     99.000000         NaN  97.000000  95.000000  92.000000  91.666667   \n",
      "\n",
      "       Grade   PG  \n",
      "count     98   98  \n",
      "unique     4    2  \n",
      "top        D  Yes  \n",
      "freq      52   49  \n",
      "mean     NaN  NaN  \n",
      "std      NaN  NaN  \n",
      "min      NaN  NaN  \n",
      "25%      NaN  NaN  \n",
      "50%      NaN  NaN  \n",
      "75%      NaN  NaN  \n",
      "max      NaN  NaN  \n"
     ]
    }
   ],
   "source": [
    "# 2. Data Preprocessing\n",
    "# Check for missing values\n",
    "print(\"\\nMissing Values:\\n\", df.isnull().sum())\n",
    "\n",
    "# Display statistical information\n",
    "print(\"\\nStatistical Summary:\\n\", df.describe(include='all'))\n"
   ]
  },
  {
   "cell_type": "code",
   "execution_count": 3,
   "id": "2333d3b9-cc2c-4b35-a415-ea6d549147cd",
   "metadata": {},
   "outputs": [],
   "source": [
    "df['WT']=df['WT'].fillna(0)"
   ]
  },
  {
   "cell_type": "code",
   "execution_count": 39,
   "id": "de89e758-28c1-40b8-b16e-1d7464e33b5d",
   "metadata": {},
   "outputs": [
    {
     "name": "stdout",
     "output_type": "stream",
     "text": [
      "\n",
      "Data Types of Each Column:\n",
      " Roll No        float64\n",
      "NationalITy     object\n",
      "WT             float64\n",
      "DSBDA          float64\n",
      "AI             float64\n",
      "Average        float64\n",
      "Grade           object\n",
      "PG              object\n",
      "dtype: object\n",
      "\n",
      "Dimensions of DataFrame: (99, 8)\n"
     ]
    }
   ],
   "source": [
    "# 3. Variable Descriptions\n",
    "print(\"\\nData Types of Each Column:\\n\", df.dtypes)\n",
    "\n",
    "# Check the shape of the data\n",
    "print(\"\\nDimensions of DataFrame:\", df.shape)"
   ]
  },
  {
   "cell_type": "code",
   "execution_count": 8,
   "id": "8c6985b2-b260-48f3-acc8-c7bd2d1e078f",
   "metadata": {},
   "outputs": [
    {
     "data": {
      "image/png": "[encoded data removed]",
      "text/plain": [
       "<Figure size 600x500 with 1 Axes>"
      ]
     },
     "metadata": {},
     "output_type": "display_data"
    },
    {
     "data": {
      "image/png": "[encoded data removed]",
      "text/plain": [
       "<Figure size 640x480 with 1 Axes>"
      ]
     },
     "metadata": {},
     "output_type": "display_data"
    }
   ],
   "source": [
    "scaler = MinMaxScaler()\n",
    "df['WT_normalized'] = scaler.fit_transform(df[['WT']])  \n",
    "# Plot boxplots of original and normalized 'WT'\n",
    "plt.figure(figsize=(6,5))\n",
    "sns.boxplot(x=df['WT'])\n",
    "plt.title(\"Original 'WT' Boxplot\")\n",
    "plt.show()\n",
    "\n",
    "sns.boxplot(x=df['WT_normalized'])\n",
    "plt.title(\"Normalized 'WT' Boxplot\")\n",
    "plt.show()"
   ]
  },
  {
   "cell_type": "code",
   "execution_count": 6,
   "id": "809c4a80-6d7f-4903-80a5-473910d378e6",
   "metadata": {},
   "outputs": [
    {
     "name": "stdout",
     "output_type": "stream",
     "text": [
      "    PG  PG_numeric\n",
      "0  Yes           1\n",
      "1   No           0\n",
      "2  NaN           2\n"
     ]
    }
   ],
   "source": [
    "\n",
    "le = LabelEncoder()\n",
    "\n",
    "# Convert PG column to numbers\n",
    "df['PG_numeric'] = le.fit_transform(df['PG'])\n",
    "\n",
    "# Show original and converted PG column\n",
    "print(df[['PG', 'PG_numeric']].head().drop_duplicates())"
   ]
  },
  {
   "cell_type": "code",
   "execution_count": null,
   "id": "9d1a4247-be30-4b08-ab86-c0bd5f71f1c0",
   "metadata": {},
   "outputs": [],
   "source": []
  }
 ],
 "metadata": {
  "kernelspec": {
   "display_name": "Python 3 (ipykernel)",
   "language": "python",
   "name": "python3"
  },
  "language_info": {
   "codemirror_mode": {
    "name": "ipython",
    "version": 3
   },
   "file_extension": ".py",
   "mimetype": "text/x-python",
   "name": "python",
   "nbconvert_exporter": "python",
   "pygments_lexer": "ipython3",
   "version": "3.12.7"
  }
 },
 "nbformat": 4,
 "nbformat_minor": 5
}
