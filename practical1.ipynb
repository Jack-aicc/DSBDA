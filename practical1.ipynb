{
 "cells": [
  {
   "cell_type": "code",
   "execution_count": 2,
   "id": "db341b78-5496-41a4-b219-c511eb83ade7",
   "metadata": {},
   "outputs": [],
   "source": [
    "import pandas as pd\n",
    "import numpy as np\n",
    "import matplotlib.pyplot as plt\n",
    "import seaborn as sns"
   ]
  },
  {
   "cell_type": "code",
   "execution_count": 3,
   "id": "0db375be-3a39-4345-ad60-f48211586594",
   "metadata": {},
   "outputs": [],
   "source": [
    "df = pd.read_csv(\"Employee.csv\")"
   ]
  },
  {
   "cell_type": "code",
   "execution_count": 4,
   "id": "16844335-57d3-42e6-b9e1-01376e1ae12b",
   "metadata": {},
   "outputs": [
    {
     "name": "stdout",
     "output_type": "stream",
     "text": [
      "First 5 rows of the dataset:\n"
     ]
    },
    {
     "data": {
      "text/html": [
       "<div>\n",
       "<style scoped>\n",
       "    .dataframe tbody tr th:only-of-type {\n",
       "        vertical-align: middle;\n",
       "    }\n",
       "\n",
       "    .dataframe tbody tr th {\n",
       "        vertical-align: top;\n",
       "    }\n",
       "\n",
       "    .dataframe thead th {\n",
       "        text-align: right;\n",
       "    }\n",
       "</style>\n",
       "<table border=\"1\" class=\"dataframe\">\n",
       "  <thead>\n",
       "    <tr style=\"text-align: right;\">\n",
       "      <th></th>\n",
       "      <th>Education</th>\n",
       "      <th>JoiningYear</th>\n",
       "      <th>City</th>\n",
       "      <th>PaymentTier</th>\n",
       "      <th>Age</th>\n",
       "      <th>Gender</th>\n",
       "      <th>EverBenched</th>\n",
       "      <th>ExperienceInCurrentDomain</th>\n",
       "      <th>LeaveOrNot</th>\n",
       "    </tr>\n",
       "  </thead>\n",
       "  <tbody>\n",
       "    <tr>\n",
       "      <th>0</th>\n",
       "      <td>Bachelors</td>\n",
       "      <td>2017</td>\n",
       "      <td>Bangalore</td>\n",
       "      <td>3</td>\n",
       "      <td>34</td>\n",
       "      <td>Male</td>\n",
       "      <td>No</td>\n",
       "      <td>0</td>\n",
       "      <td>0</td>\n",
       "    </tr>\n",
       "    <tr>\n",
       "      <th>1</th>\n",
       "      <td>Bachelors</td>\n",
       "      <td>2013</td>\n",
       "      <td>Pune</td>\n",
       "      <td>1</td>\n",
       "      <td>28</td>\n",
       "      <td>Female</td>\n",
       "      <td>No</td>\n",
       "      <td>3</td>\n",
       "      <td>1</td>\n",
       "    </tr>\n",
       "    <tr>\n",
       "      <th>2</th>\n",
       "      <td>Bachelors</td>\n",
       "      <td>2014</td>\n",
       "      <td>New Delhi</td>\n",
       "      <td>3</td>\n",
       "      <td>38</td>\n",
       "      <td>Female</td>\n",
       "      <td>No</td>\n",
       "      <td>2</td>\n",
       "      <td>0</td>\n",
       "    </tr>\n",
       "    <tr>\n",
       "      <th>3</th>\n",
       "      <td>Masters</td>\n",
       "      <td>2016</td>\n",
       "      <td>Bangalore</td>\n",
       "      <td>3</td>\n",
       "      <td>27</td>\n",
       "      <td>Male</td>\n",
       "      <td>No</td>\n",
       "      <td>5</td>\n",
       "      <td>1</td>\n",
       "    </tr>\n",
       "    <tr>\n",
       "      <th>4</th>\n",
       "      <td>Masters</td>\n",
       "      <td>2017</td>\n",
       "      <td>Pune</td>\n",
       "      <td>3</td>\n",
       "      <td>24</td>\n",
       "      <td>Male</td>\n",
       "      <td>Yes</td>\n",
       "      <td>2</td>\n",
       "      <td>1</td>\n",
       "    </tr>\n",
       "  </tbody>\n",
       "</table>\n",
       "</div>"
      ],
      "text/plain": [
       "   Education  JoiningYear       City  PaymentTier  Age  Gender EverBenched  \\\n",
       "0  Bachelors         2017  Bangalore            3   34    Male          No   \n",
       "1  Bachelors         2013       Pune            1   28  Female          No   \n",
       "2  Bachelors         2014  New Delhi            3   38  Female          No   \n",
       "3    Masters         2016  Bangalore            3   27    Male          No   \n",
       "4    Masters         2017       Pune            3   24    Male         Yes   \n",
       "\n",
       "   ExperienceInCurrentDomain  LeaveOrNot  \n",
       "0                          0           0  \n",
       "1                          3           1  \n",
       "2                          2           0  \n",
       "3                          5           1  \n",
       "4                          2           1  "
      ]
     },
     "execution_count": 4,
     "metadata": {},
     "output_type": "execute_result"
    }
   ],
   "source": [
    "print(\"First 5 rows of the dataset:\")\n",
    "df.head(5)"
   ]
  },
  {
   "cell_type": "code",
   "execution_count": 5,
   "id": "064ced2b-8e23-4f58-a028-b664545b4865",
   "metadata": {},
   "outputs": [
    {
     "name": "stdout",
     "output_type": "stream",
     "text": [
      "\n",
      "Missing values (column-wise):\n",
      "Education                    0\n",
      "JoiningYear                  0\n",
      "City                         0\n",
      "PaymentTier                  0\n",
      "Age                          0\n",
      "Gender                       0\n",
      "EverBenched                  0\n",
      "ExperienceInCurrentDomain    0\n",
      "LeaveOrNot                   0\n",
      "dtype: int64\n"
     ]
    }
   ],
   "source": [
    "print(\"\\nMissing values (column-wise):\")\n",
    "print(df.isnull().sum())"
   ]
  },
  {
   "cell_type": "code",
   "execution_count": 7,
   "id": "1d6a2f1a-e983-4f28-8ad7-919e5f482057",
   "metadata": {
    "scrolled": true
   },
   "outputs": [
    {
     "name": "stdout",
     "output_type": "stream",
     "text": [
      "\n",
      "Statistical Information:\n"
     ]
    },
    {
     "data": {
      "text/html": [
       "<div>\n",
       "<style scoped>\n",
       "    .dataframe tbody tr th:only-of-type {\n",
       "        vertical-align: middle;\n",
       "    }\n",
       "\n",
       "    .dataframe tbody tr th {\n",
       "        vertical-align: top;\n",
       "    }\n",
       "\n",
       "    .dataframe thead th {\n",
       "        text-align: right;\n",
       "    }\n",
       "</style>\n",
       "<table border=\"1\" class=\"dataframe\">\n",
       "  <thead>\n",
       "    <tr style=\"text-align: right;\">\n",
       "      <th></th>\n",
       "      <th>Education</th>\n",
       "      <th>JoiningYear</th>\n",
       "      <th>City</th>\n",
       "      <th>PaymentTier</th>\n",
       "      <th>Age</th>\n",
       "      <th>Gender</th>\n",
       "      <th>EverBenched</th>\n",
       "      <th>ExperienceInCurrentDomain</th>\n",
       "      <th>LeaveOrNot</th>\n",
       "    </tr>\n",
       "  </thead>\n",
       "  <tbody>\n",
       "    <tr>\n",
       "      <th>count</th>\n",
       "      <td>4653</td>\n",
       "      <td>4653.000000</td>\n",
       "      <td>4653</td>\n",
       "      <td>4653.000000</td>\n",
       "      <td>4653.000000</td>\n",
       "      <td>4653</td>\n",
       "      <td>4653</td>\n",
       "      <td>4653.000000</td>\n",
       "      <td>4653.000000</td>\n",
       "    </tr>\n",
       "    <tr>\n",
       "      <th>unique</th>\n",
       "      <td>3</td>\n",
       "      <td>NaN</td>\n",
       "      <td>3</td>\n",
       "      <td>NaN</td>\n",
       "      <td>NaN</td>\n",
       "      <td>2</td>\n",
       "      <td>2</td>\n",
       "      <td>NaN</td>\n",
       "      <td>NaN</td>\n",
       "    </tr>\n",
       "    <tr>\n",
       "      <th>top</th>\n",
       "      <td>Bachelors</td>\n",
       "      <td>NaN</td>\n",
       "      <td>Bangalore</td>\n",
       "      <td>NaN</td>\n",
       "      <td>NaN</td>\n",
       "      <td>Male</td>\n",
       "      <td>No</td>\n",
       "      <td>NaN</td>\n",
       "      <td>NaN</td>\n",
       "    </tr>\n",
       "    <tr>\n",
       "      <th>freq</th>\n",
       "      <td>3601</td>\n",
       "      <td>NaN</td>\n",
       "      <td>2228</td>\n",
       "      <td>NaN</td>\n",
       "      <td>NaN</td>\n",
       "      <td>2778</td>\n",
       "      <td>4175</td>\n",
       "      <td>NaN</td>\n",
       "      <td>NaN</td>\n",
       "    </tr>\n",
       "    <tr>\n",
       "      <th>mean</th>\n",
       "      <td>NaN</td>\n",
       "      <td>2015.062970</td>\n",
       "      <td>NaN</td>\n",
       "      <td>2.698259</td>\n",
       "      <td>29.393295</td>\n",
       "      <td>NaN</td>\n",
       "      <td>NaN</td>\n",
       "      <td>2.905652</td>\n",
       "      <td>0.343864</td>\n",
       "    </tr>\n",
       "    <tr>\n",
       "      <th>std</th>\n",
       "      <td>NaN</td>\n",
       "      <td>1.863377</td>\n",
       "      <td>NaN</td>\n",
       "      <td>0.561435</td>\n",
       "      <td>4.826087</td>\n",
       "      <td>NaN</td>\n",
       "      <td>NaN</td>\n",
       "      <td>1.558240</td>\n",
       "      <td>0.475047</td>\n",
       "    </tr>\n",
       "    <tr>\n",
       "      <th>min</th>\n",
       "      <td>NaN</td>\n",
       "      <td>2012.000000</td>\n",
       "      <td>NaN</td>\n",
       "      <td>1.000000</td>\n",
       "      <td>22.000000</td>\n",
       "      <td>NaN</td>\n",
       "      <td>NaN</td>\n",
       "      <td>0.000000</td>\n",
       "      <td>0.000000</td>\n",
       "    </tr>\n",
       "    <tr>\n",
       "      <th>25%</th>\n",
       "      <td>NaN</td>\n",
       "      <td>2013.000000</td>\n",
       "      <td>NaN</td>\n",
       "      <td>3.000000</td>\n",
       "      <td>26.000000</td>\n",
       "      <td>NaN</td>\n",
       "      <td>NaN</td>\n",
       "      <td>2.000000</td>\n",
       "      <td>0.000000</td>\n",
       "    </tr>\n",
       "    <tr>\n",
       "      <th>50%</th>\n",
       "      <td>NaN</td>\n",
       "      <td>2015.000000</td>\n",
       "      <td>NaN</td>\n",
       "      <td>3.000000</td>\n",
       "      <td>28.000000</td>\n",
       "      <td>NaN</td>\n",
       "      <td>NaN</td>\n",
       "      <td>3.000000</td>\n",
       "      <td>0.000000</td>\n",
       "    </tr>\n",
       "    <tr>\n",
       "      <th>75%</th>\n",
       "      <td>NaN</td>\n",
       "      <td>2017.000000</td>\n",
       "      <td>NaN</td>\n",
       "      <td>3.000000</td>\n",
       "      <td>32.000000</td>\n",
       "      <td>NaN</td>\n",
       "      <td>NaN</td>\n",
       "      <td>4.000000</td>\n",
       "      <td>1.000000</td>\n",
       "    </tr>\n",
       "    <tr>\n",
       "      <th>max</th>\n",
       "      <td>NaN</td>\n",
       "      <td>2018.000000</td>\n",
       "      <td>NaN</td>\n",
       "      <td>3.000000</td>\n",
       "      <td>41.000000</td>\n",
       "      <td>NaN</td>\n",
       "      <td>NaN</td>\n",
       "      <td>7.000000</td>\n",
       "      <td>1.000000</td>\n",
       "    </tr>\n",
       "  </tbody>\n",
       "</table>\n",
       "</div>"
      ],
      "text/plain": [
       "        Education  JoiningYear       City  PaymentTier          Age Gender  \\\n",
       "count        4653  4653.000000       4653  4653.000000  4653.000000   4653   \n",
       "unique          3          NaN          3          NaN          NaN      2   \n",
       "top     Bachelors          NaN  Bangalore          NaN          NaN   Male   \n",
       "freq         3601          NaN       2228          NaN          NaN   2778   \n",
       "mean          NaN  2015.062970        NaN     2.698259    29.393295    NaN   \n",
       "std           NaN     1.863377        NaN     0.561435     4.826087    NaN   \n",
       "min           NaN  2012.000000        NaN     1.000000    22.000000    NaN   \n",
       "25%           NaN  2013.000000        NaN     3.000000    26.000000    NaN   \n",
       "50%           NaN  2015.000000        NaN     3.000000    28.000000    NaN   \n",
       "75%           NaN  2017.000000        NaN     3.000000    32.000000    NaN   \n",
       "max           NaN  2018.000000        NaN     3.000000    41.000000    NaN   \n",
       "\n",
       "       EverBenched  ExperienceInCurrentDomain   LeaveOrNot  \n",
       "count         4653                4653.000000  4653.000000  \n",
       "unique           2                        NaN          NaN  \n",
       "top             No                        NaN          NaN  \n",
       "freq          4175                        NaN          NaN  \n",
       "mean           NaN                   2.905652     0.343864  \n",
       "std            NaN                   1.558240     0.475047  \n",
       "min            NaN                   0.000000     0.000000  \n",
       "25%            NaN                   2.000000     0.000000  \n",
       "50%            NaN                   3.000000     0.000000  \n",
       "75%            NaN                   4.000000     1.000000  \n",
       "max            NaN                   7.000000     1.000000  "
      ]
     },
     "execution_count": 7,
     "metadata": {},
     "output_type": "execute_result"
    }
   ],
   "source": [
    "print(\"\\nStatistical Information:\")\n",
    "df.describe(include='all')"
   ]
  },
  {
   "cell_type": "code",
   "execution_count": 14,
   "id": "139bc333-7073-4c45-86eb-c945eca4f979",
   "metadata": {},
   "outputs": [
    {
     "name": "stdout",
     "output_type": "stream",
     "text": [
      "\n",
      "Column Names and Data Types:\n"
     ]
    },
    {
     "data": {
      "text/plain": [
       "Education                     object\n",
       "JoiningYear                    int64\n",
       "City                          object\n",
       "PaymentTier                    int64\n",
       "Age                            int64\n",
       "Gender                        object\n",
       "EverBenched                   object\n",
       "ExperienceInCurrentDomain      int64\n",
       "LeaveOrNot                     int64\n",
       "zscore_JoiningYear           float64\n",
       "dtype: object"
      ]
     },
     "execution_count": 14,
     "metadata": {},
     "output_type": "execute_result"
    }
   ],
   "source": [
    "print(\"\\nColumn Names and Data Types:\")\n",
    "df.dtypes"
   ]
  },
  {
   "cell_type": "code",
   "execution_count": 10,
   "id": "31aa9c7f-dfce-4ab2-b107-e590407c098b",
   "metadata": {},
   "outputs": [
    {
     "name": "stdout",
     "output_type": "stream",
     "text": [
      " \n",
      "Dimensions of the dataset:(4653, 9) (Rows, Columns)\n"
     ]
    }
   ],
   "source": [
    "print(f\" \\nDimensions of the dataset:{df.shape} (Rows, Columns)\")"
   ]
  },
  {
   "cell_type": "code",
   "execution_count": 10,
   "id": "d303195d-7ddb-4f17-8a5a-04f28aff2aae",
   "metadata": {},
   "outputs": [
    {
     "name": "stdout",
     "output_type": "stream",
     "text": [
      "Education  column is perfect text \n",
      "JoiningYear  this column already in  int64\n",
      "City  column is perfect text \n",
      "PaymentTier  this column already in  int64\n",
      "Age  this column already in  int64\n",
      "Gender  column is perfect text \n",
      "EverBenched  column is perfect text \n",
      "ExperienceInCurrentDomain  this column already in  int64\n",
      "LeaveOrNot  this column already in  int64\n"
     ]
    }
   ],
   "source": [
    "for col in df.columns:\n",
    "    if df[col].dtype=='object':\n",
    "        try:\n",
    "            df[col]=pd.to_numeric(df[col])\n",
    "        except:\n",
    "            print(col,\" column is perfect text \")\n",
    "    else:\n",
    "        print(col,\" this column already in \",df[col].dtype)\n",
    "\n",
    "# print(\"\\nChecking and Converting Data Types:\")\n",
    "# for col in df.columns:\n",
    "#     if df[col].dtype == 'object':\n",
    "#         try:\n",
    "#             df[col] = pd.to_numeric(df[col])\n",
    "#             print(f\"Converted {col} to numeric.\")\n",
    "#         except:\n",
    "            \n",
    "#             print(f\"{col} remains as object (non-numeric text data).\")\n",
    "#     else:\n",
    "#         print(f\"{col} is already {df[col].dtype}\")"
   ]
  },
  {
   "cell_type": "code",
   "execution_count": 12,
   "id": "ab523903-9f83-474c-a6cc-00810a213289",
   "metadata": {
    "scrolled": true
   },
   "outputs": [
    {
     "data": {
      "image/png": "[encoded data removed]",
      "text/plain": [
       "<Figure size 400x500 with 1 Axes>"
      ]
     },
     "metadata": {},
     "output_type": "display_data"
    }
   ],
   "source": [
    "col_for_zscore='JoiningYear'\n",
    "df['JoiningYear_z_score']=(df[col_for_zscore]-df[col_for_zscore].mean())/df[col_for_zscore].std()\n",
    "\n",
    "plt.figure(figsize=(4,5))\n",
    "plt.boxplot(x=df['JoiningYear_z_score'])\n",
    "plt.title('boxplot of z score N of JoiningYear')\n",
    "plt.show()\n",
    "\n",
    "# col_to_normalize = 'JoiningYear'  \n",
    "# df['zscore_' + col_to_normalize] = (df[col_to_normalize] - df[col_to_normalize].mean()) / df[col_to_normalize].std()\n",
    "\n",
    "# print(f\"\\nZ-Score normalization done on column: {col_to_normalize}\")\n",
    "#     # Plotting Box Plot\n",
    "# plt.figure(figsize=(5, 5))\n",
    "# plt.boxplot(x=df['zscore_' + col_to_normalize])\n",
    "# plt.title(f\"Boxplot of Z-Score Normalized {col_to_normalize}\")\n",
    "# plt.show()\n",
    "\n"
   ]
  },
  {
   "cell_type": "code",
   "execution_count": 16,
   "id": "c6132091-a05a-4574-b445-606d86a06ae5",
   "metadata": {
    "scrolled": true
   },
   "outputs": [
    {
     "name": "stdout",
     "output_type": "stream",
     "text": [
      "\n",
      "Converting Categorical Variables to Quantitative (One-Hot Encoding):\n",
      "Encoded DataFrame:\n",
      "   JoiningYear  PaymentTier  Age  ExperienceInCurrentDomain  LeaveOrNot  \\\n",
      "0         2017            3   34                          0           0   \n",
      "1         2013            1   28                          3           1   \n",
      "2         2014            3   38                          2           0   \n",
      "3         2016            3   27                          5           1   \n",
      "4         2017            3   24                          2           1   \n",
      "\n",
      "   zscore_JoiningYear  Education_Masters  Education_PHD  City_New Delhi  \\\n",
      "0            1.039527              False          False           False   \n",
      "1           -1.107114              False          False           False   \n",
      "2           -0.570454              False          False            True   \n",
      "3            0.502867               True          False           False   \n",
      "4            1.039527               True          False           False   \n",
      "\n",
      "   City_Pune  Gender_Male  EverBenched_Yes  \n",
      "0      False         True            False  \n",
      "1       True        False            False  \n",
      "2      False        False            False  \n",
      "3      False         True            False  \n",
      "4       True         True             True  \n"
     ]
    }
   ],
   "source": [
    "print(\"\\nConverting Categorical Variables to Quantitative (One-Hot Encoding):\")\n",
    "cat_cols = df.select_dtypes(include=['object']).columns\n",
    "df_encoded = pd.get_dummies(df, columns=cat_cols, drop_first=True)\n",
    "\n",
    "print(\"Encoded DataFrame:\")\n",
    "print(df_encoded.head())"
   ]
  },
  {
   "cell_type": "code",
   "execution_count": null,
   "id": "dc05f17a-5a2b-47e5-9c4d-65f80ef14336",
   "metadata": {},
   "outputs": [],
   "source": []
  }
 ],
 "metadata": {
  "kernelspec": {
   "display_name": "Python 3 (ipykernel)",
   "language": "python",
   "name": "python3"
  },
  "language_info": {
   "codemirror_mode": {
    "name": "ipython",
    "version": 3
   },
   "file_extension": ".py",
   "mimetype": "text/x-python",
   "name": "python",
   "nbconvert_exporter": "python",
   "pygments_lexer": "ipython3",
   "version": "3.12.7"
  }
 },
 "nbformat": 4,
 "nbformat_minor": 5
}
